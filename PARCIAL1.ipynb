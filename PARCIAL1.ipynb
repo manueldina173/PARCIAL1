{
  "nbformat": 4,
  "nbformat_minor": 0,
  "metadata": {
    "colab": {
      "name": "PARCIAL1.ipynb",
      "provenance": [],
      "collapsed_sections": []
    },
    "kernelspec": {
      "name": "python3",
      "display_name": "Python 3"
    },
    "language_info": {
      "name": "python"
    }
  },
  "cells": [
    {
      "cell_type": "code",
      "metadata": {
        "id": "BESuWiq5xvo6",
        "colab": {
          "base_uri": "https://localhost:8080/",
          "height": 0
        },
        "outputId": "bb7da647-a980-43be-81ce-68a49dede2b3"
      },
      "source": [
        "pip install dfply"
      ],
      "execution_count": 201,
      "outputs": [
        {
          "output_type": "stream",
          "name": "stdout",
          "text": [
            "Collecting dfply\n",
            "  Downloading dfply-0.3.3-py3-none-any.whl (612 kB)\n",
            "\u001b[?25l\r\u001b[K     |▌                               | 10 kB 22.1 MB/s eta 0:00:01\r\u001b[K     |█                               | 20 kB 27.9 MB/s eta 0:00:01\r\u001b[K     |█▋                              | 30 kB 33.8 MB/s eta 0:00:01\r\u001b[K     |██▏                             | 40 kB 38.6 MB/s eta 0:00:01\r\u001b[K     |██▊                             | 51 kB 36.1 MB/s eta 0:00:01\r\u001b[K     |███▏                            | 61 kB 33.5 MB/s eta 0:00:01\r\u001b[K     |███▊                            | 71 kB 28.4 MB/s eta 0:00:01\r\u001b[K     |████▎                           | 81 kB 29.5 MB/s eta 0:00:01\r\u001b[K     |████▉                           | 92 kB 30.1 MB/s eta 0:00:01\r\u001b[K     |█████▍                          | 102 kB 32.1 MB/s eta 0:00:01\r\u001b[K     |█████▉                          | 112 kB 32.1 MB/s eta 0:00:01\r\u001b[K     |██████▍                         | 122 kB 32.1 MB/s eta 0:00:01\r\u001b[K     |███████                         | 133 kB 32.1 MB/s eta 0:00:01\r\u001b[K     |███████▌                        | 143 kB 32.1 MB/s eta 0:00:01\r\u001b[K     |████████                        | 153 kB 32.1 MB/s eta 0:00:01\r\u001b[K     |████████▋                       | 163 kB 32.1 MB/s eta 0:00:01\r\u001b[K     |█████████                       | 174 kB 32.1 MB/s eta 0:00:01\r\u001b[K     |█████████▋                      | 184 kB 32.1 MB/s eta 0:00:01\r\u001b[K     |██████████▏                     | 194 kB 32.1 MB/s eta 0:00:01\r\u001b[K     |██████████▊                     | 204 kB 32.1 MB/s eta 0:00:01\r\u001b[K     |███████████▎                    | 215 kB 32.1 MB/s eta 0:00:01\r\u001b[K     |███████████▊                    | 225 kB 32.1 MB/s eta 0:00:01\r\u001b[K     |████████████▎                   | 235 kB 32.1 MB/s eta 0:00:01\r\u001b[K     |████████████▉                   | 245 kB 32.1 MB/s eta 0:00:01\r\u001b[K     |█████████████▍                  | 256 kB 32.1 MB/s eta 0:00:01\r\u001b[K     |██████████████                  | 266 kB 32.1 MB/s eta 0:00:01\r\u001b[K     |██████████████▌                 | 276 kB 32.1 MB/s eta 0:00:01\r\u001b[K     |███████████████                 | 286 kB 32.1 MB/s eta 0:00:01\r\u001b[K     |███████████████▌                | 296 kB 32.1 MB/s eta 0:00:01\r\u001b[K     |████████████████                | 307 kB 32.1 MB/s eta 0:00:01\r\u001b[K     |████████████████▋               | 317 kB 32.1 MB/s eta 0:00:01\r\u001b[K     |█████████████████▏              | 327 kB 32.1 MB/s eta 0:00:01\r\u001b[K     |█████████████████▋              | 337 kB 32.1 MB/s eta 0:00:01\r\u001b[K     |██████████████████▏             | 348 kB 32.1 MB/s eta 0:00:01\r\u001b[K     |██████████████████▊             | 358 kB 32.1 MB/s eta 0:00:01\r\u001b[K     |███████████████████▎            | 368 kB 32.1 MB/s eta 0:00:01\r\u001b[K     |███████████████████▉            | 378 kB 32.1 MB/s eta 0:00:01\r\u001b[K     |████████████████████▎           | 389 kB 32.1 MB/s eta 0:00:01\r\u001b[K     |████████████████████▉           | 399 kB 32.1 MB/s eta 0:00:01\r\u001b[K     |█████████████████████▍          | 409 kB 32.1 MB/s eta 0:00:01\r\u001b[K     |██████████████████████          | 419 kB 32.1 MB/s eta 0:00:01\r\u001b[K     |██████████████████████▌         | 430 kB 32.1 MB/s eta 0:00:01\r\u001b[K     |███████████████████████         | 440 kB 32.1 MB/s eta 0:00:01\r\u001b[K     |███████████████████████▌        | 450 kB 32.1 MB/s eta 0:00:01\r\u001b[K     |████████████████████████        | 460 kB 32.1 MB/s eta 0:00:01\r\u001b[K     |████████████████████████▋       | 471 kB 32.1 MB/s eta 0:00:01\r\u001b[K     |█████████████████████████▏      | 481 kB 32.1 MB/s eta 0:00:01\r\u001b[K     |█████████████████████████▊      | 491 kB 32.1 MB/s eta 0:00:01\r\u001b[K     |██████████████████████████▏     | 501 kB 32.1 MB/s eta 0:00:01\r\u001b[K     |██████████████████████████▊     | 512 kB 32.1 MB/s eta 0:00:01\r\u001b[K     |███████████████████████████▎    | 522 kB 32.1 MB/s eta 0:00:01\r\u001b[K     |███████████████████████████▉    | 532 kB 32.1 MB/s eta 0:00:01\r\u001b[K     |████████████████████████████▍   | 542 kB 32.1 MB/s eta 0:00:01\r\u001b[K     |█████████████████████████████   | 552 kB 32.1 MB/s eta 0:00:01\r\u001b[K     |█████████████████████████████▍  | 563 kB 32.1 MB/s eta 0:00:01\r\u001b[K     |██████████████████████████████  | 573 kB 32.1 MB/s eta 0:00:01\r\u001b[K     |██████████████████████████████▌ | 583 kB 32.1 MB/s eta 0:00:01\r\u001b[K     |███████████████████████████████ | 593 kB 32.1 MB/s eta 0:00:01\r\u001b[K     |███████████████████████████████▋| 604 kB 32.1 MB/s eta 0:00:01\r\u001b[K     |████████████████████████████████| 612 kB 32.1 MB/s \n",
            "\u001b[?25hRequirement already satisfied: numpy in /usr/local/lib/python3.7/dist-packages (from dfply) (1.19.5)\n",
            "Requirement already satisfied: pandas in /usr/local/lib/python3.7/dist-packages (from dfply) (1.1.5)\n",
            "Requirement already satisfied: pytz>=2017.2 in /usr/local/lib/python3.7/dist-packages (from pandas->dfply) (2018.9)\n",
            "Requirement already satisfied: python-dateutil>=2.7.3 in /usr/local/lib/python3.7/dist-packages (from pandas->dfply) (2.8.2)\n",
            "Requirement already satisfied: six>=1.5 in /usr/local/lib/python3.7/dist-packages (from python-dateutil>=2.7.3->pandas->dfply) (1.15.0)\n",
            "Installing collected packages: dfply\n",
            "Successfully installed dfply-0.3.3\n"
          ]
        }
      ]
    },
    {
      "cell_type": "markdown",
      "metadata": {
        "id": "i7YrCkMhxxVv"
      },
      "source": [
        "Cargar los librerias "
      ]
    },
    {
      "cell_type": "code",
      "metadata": {
        "id": "4HDVLDerxyu9"
      },
      "source": [
        "from sklearn import datasets\n",
        "from dfply import *\n",
        "import pandas as pd\n",
        "import numpy as np\n",
        "import seaborn as sns\n"
      ],
      "execution_count": 202,
      "outputs": []
    },
    {
      "cell_type": "code",
      "metadata": {
        "colab": {
          "base_uri": "https://localhost:8080/",
          "height": 382
        },
        "id": "57oBB0Vyx5Jm",
        "outputId": "b42d8cf0-07fd-41de-b649-e2a6196216ff"
      },
      "source": [
        "base_mat = pd.read_csv('student-mat.csv', \n",
        "                 sep = ';'\n",
        "                 )\n",
        "base_mat.head(10)"
      ],
      "execution_count": 102,
      "outputs": [
        {
          "output_type": "execute_result",
          "data": {
            "text/html": [
              "<div>\n",
              "<style scoped>\n",
              "    .dataframe tbody tr th:only-of-type {\n",
              "        vertical-align: middle;\n",
              "    }\n",
              "\n",
              "    .dataframe tbody tr th {\n",
              "        vertical-align: top;\n",
              "    }\n",
              "\n",
              "    .dataframe thead th {\n",
              "        text-align: right;\n",
              "    }\n",
              "</style>\n",
              "<table border=\"1\" class=\"dataframe\">\n",
              "  <thead>\n",
              "    <tr style=\"text-align: right;\">\n",
              "      <th></th>\n",
              "      <th>school</th>\n",
              "      <th>sex</th>\n",
              "      <th>age</th>\n",
              "      <th>address</th>\n",
              "      <th>famsize</th>\n",
              "      <th>Pstatus</th>\n",
              "      <th>Medu</th>\n",
              "      <th>Fedu</th>\n",
              "      <th>Mjob</th>\n",
              "      <th>Fjob</th>\n",
              "      <th>reason</th>\n",
              "      <th>guardian</th>\n",
              "      <th>traveltime</th>\n",
              "      <th>studytime</th>\n",
              "      <th>failures</th>\n",
              "      <th>schoolsup</th>\n",
              "      <th>famsup</th>\n",
              "      <th>paid</th>\n",
              "      <th>activities</th>\n",
              "      <th>nursery</th>\n",
              "      <th>higher</th>\n",
              "      <th>internet</th>\n",
              "      <th>romantic</th>\n",
              "      <th>famrel</th>\n",
              "      <th>freetime</th>\n",
              "      <th>goout</th>\n",
              "      <th>Dalc</th>\n",
              "      <th>Walc</th>\n",
              "      <th>health</th>\n",
              "      <th>absences</th>\n",
              "      <th>G1</th>\n",
              "      <th>G2</th>\n",
              "      <th>G3</th>\n",
              "    </tr>\n",
              "  </thead>\n",
              "  <tbody>\n",
              "    <tr>\n",
              "      <th>0</th>\n",
              "      <td>GP</td>\n",
              "      <td>F</td>\n",
              "      <td>18</td>\n",
              "      <td>U</td>\n",
              "      <td>GT3</td>\n",
              "      <td>A</td>\n",
              "      <td>4</td>\n",
              "      <td>4</td>\n",
              "      <td>at_home</td>\n",
              "      <td>teacher</td>\n",
              "      <td>course</td>\n",
              "      <td>mother</td>\n",
              "      <td>2</td>\n",
              "      <td>2</td>\n",
              "      <td>0</td>\n",
              "      <td>yes</td>\n",
              "      <td>no</td>\n",
              "      <td>no</td>\n",
              "      <td>no</td>\n",
              "      <td>yes</td>\n",
              "      <td>yes</td>\n",
              "      <td>no</td>\n",
              "      <td>no</td>\n",
              "      <td>4</td>\n",
              "      <td>3</td>\n",
              "      <td>4</td>\n",
              "      <td>1</td>\n",
              "      <td>1</td>\n",
              "      <td>3</td>\n",
              "      <td>6</td>\n",
              "      <td>5</td>\n",
              "      <td>6</td>\n",
              "      <td>6</td>\n",
              "    </tr>\n",
              "    <tr>\n",
              "      <th>1</th>\n",
              "      <td>GP</td>\n",
              "      <td>F</td>\n",
              "      <td>17</td>\n",
              "      <td>U</td>\n",
              "      <td>GT3</td>\n",
              "      <td>T</td>\n",
              "      <td>1</td>\n",
              "      <td>1</td>\n",
              "      <td>at_home</td>\n",
              "      <td>other</td>\n",
              "      <td>course</td>\n",
              "      <td>father</td>\n",
              "      <td>1</td>\n",
              "      <td>2</td>\n",
              "      <td>0</td>\n",
              "      <td>no</td>\n",
              "      <td>yes</td>\n",
              "      <td>no</td>\n",
              "      <td>no</td>\n",
              "      <td>no</td>\n",
              "      <td>yes</td>\n",
              "      <td>yes</td>\n",
              "      <td>no</td>\n",
              "      <td>5</td>\n",
              "      <td>3</td>\n",
              "      <td>3</td>\n",
              "      <td>1</td>\n",
              "      <td>1</td>\n",
              "      <td>3</td>\n",
              "      <td>4</td>\n",
              "      <td>5</td>\n",
              "      <td>5</td>\n",
              "      <td>6</td>\n",
              "    </tr>\n",
              "    <tr>\n",
              "      <th>2</th>\n",
              "      <td>GP</td>\n",
              "      <td>F</td>\n",
              "      <td>15</td>\n",
              "      <td>U</td>\n",
              "      <td>LE3</td>\n",
              "      <td>T</td>\n",
              "      <td>1</td>\n",
              "      <td>1</td>\n",
              "      <td>at_home</td>\n",
              "      <td>other</td>\n",
              "      <td>other</td>\n",
              "      <td>mother</td>\n",
              "      <td>1</td>\n",
              "      <td>2</td>\n",
              "      <td>3</td>\n",
              "      <td>yes</td>\n",
              "      <td>no</td>\n",
              "      <td>yes</td>\n",
              "      <td>no</td>\n",
              "      <td>yes</td>\n",
              "      <td>yes</td>\n",
              "      <td>yes</td>\n",
              "      <td>no</td>\n",
              "      <td>4</td>\n",
              "      <td>3</td>\n",
              "      <td>2</td>\n",
              "      <td>2</td>\n",
              "      <td>3</td>\n",
              "      <td>3</td>\n",
              "      <td>10</td>\n",
              "      <td>7</td>\n",
              "      <td>8</td>\n",
              "      <td>10</td>\n",
              "    </tr>\n",
              "    <tr>\n",
              "      <th>3</th>\n",
              "      <td>GP</td>\n",
              "      <td>F</td>\n",
              "      <td>15</td>\n",
              "      <td>U</td>\n",
              "      <td>GT3</td>\n",
              "      <td>T</td>\n",
              "      <td>4</td>\n",
              "      <td>2</td>\n",
              "      <td>health</td>\n",
              "      <td>services</td>\n",
              "      <td>home</td>\n",
              "      <td>mother</td>\n",
              "      <td>1</td>\n",
              "      <td>3</td>\n",
              "      <td>0</td>\n",
              "      <td>no</td>\n",
              "      <td>yes</td>\n",
              "      <td>yes</td>\n",
              "      <td>yes</td>\n",
              "      <td>yes</td>\n",
              "      <td>yes</td>\n",
              "      <td>yes</td>\n",
              "      <td>yes</td>\n",
              "      <td>3</td>\n",
              "      <td>2</td>\n",
              "      <td>2</td>\n",
              "      <td>1</td>\n",
              "      <td>1</td>\n",
              "      <td>5</td>\n",
              "      <td>2</td>\n",
              "      <td>15</td>\n",
              "      <td>14</td>\n",
              "      <td>15</td>\n",
              "    </tr>\n",
              "    <tr>\n",
              "      <th>4</th>\n",
              "      <td>GP</td>\n",
              "      <td>F</td>\n",
              "      <td>16</td>\n",
              "      <td>U</td>\n",
              "      <td>GT3</td>\n",
              "      <td>T</td>\n",
              "      <td>3</td>\n",
              "      <td>3</td>\n",
              "      <td>other</td>\n",
              "      <td>other</td>\n",
              "      <td>home</td>\n",
              "      <td>father</td>\n",
              "      <td>1</td>\n",
              "      <td>2</td>\n",
              "      <td>0</td>\n",
              "      <td>no</td>\n",
              "      <td>yes</td>\n",
              "      <td>yes</td>\n",
              "      <td>no</td>\n",
              "      <td>yes</td>\n",
              "      <td>yes</td>\n",
              "      <td>no</td>\n",
              "      <td>no</td>\n",
              "      <td>4</td>\n",
              "      <td>3</td>\n",
              "      <td>2</td>\n",
              "      <td>1</td>\n",
              "      <td>2</td>\n",
              "      <td>5</td>\n",
              "      <td>4</td>\n",
              "      <td>6</td>\n",
              "      <td>10</td>\n",
              "      <td>10</td>\n",
              "    </tr>\n",
              "    <tr>\n",
              "      <th>5</th>\n",
              "      <td>GP</td>\n",
              "      <td>M</td>\n",
              "      <td>16</td>\n",
              "      <td>U</td>\n",
              "      <td>LE3</td>\n",
              "      <td>T</td>\n",
              "      <td>4</td>\n",
              "      <td>3</td>\n",
              "      <td>services</td>\n",
              "      <td>other</td>\n",
              "      <td>reputation</td>\n",
              "      <td>mother</td>\n",
              "      <td>1</td>\n",
              "      <td>2</td>\n",
              "      <td>0</td>\n",
              "      <td>no</td>\n",
              "      <td>yes</td>\n",
              "      <td>yes</td>\n",
              "      <td>yes</td>\n",
              "      <td>yes</td>\n",
              "      <td>yes</td>\n",
              "      <td>yes</td>\n",
              "      <td>no</td>\n",
              "      <td>5</td>\n",
              "      <td>4</td>\n",
              "      <td>2</td>\n",
              "      <td>1</td>\n",
              "      <td>2</td>\n",
              "      <td>5</td>\n",
              "      <td>10</td>\n",
              "      <td>15</td>\n",
              "      <td>15</td>\n",
              "      <td>15</td>\n",
              "    </tr>\n",
              "    <tr>\n",
              "      <th>6</th>\n",
              "      <td>GP</td>\n",
              "      <td>M</td>\n",
              "      <td>16</td>\n",
              "      <td>U</td>\n",
              "      <td>LE3</td>\n",
              "      <td>T</td>\n",
              "      <td>2</td>\n",
              "      <td>2</td>\n",
              "      <td>other</td>\n",
              "      <td>other</td>\n",
              "      <td>home</td>\n",
              "      <td>mother</td>\n",
              "      <td>1</td>\n",
              "      <td>2</td>\n",
              "      <td>0</td>\n",
              "      <td>no</td>\n",
              "      <td>no</td>\n",
              "      <td>no</td>\n",
              "      <td>no</td>\n",
              "      <td>yes</td>\n",
              "      <td>yes</td>\n",
              "      <td>yes</td>\n",
              "      <td>no</td>\n",
              "      <td>4</td>\n",
              "      <td>4</td>\n",
              "      <td>4</td>\n",
              "      <td>1</td>\n",
              "      <td>1</td>\n",
              "      <td>3</td>\n",
              "      <td>0</td>\n",
              "      <td>12</td>\n",
              "      <td>12</td>\n",
              "      <td>11</td>\n",
              "    </tr>\n",
              "    <tr>\n",
              "      <th>7</th>\n",
              "      <td>GP</td>\n",
              "      <td>F</td>\n",
              "      <td>17</td>\n",
              "      <td>U</td>\n",
              "      <td>GT3</td>\n",
              "      <td>A</td>\n",
              "      <td>4</td>\n",
              "      <td>4</td>\n",
              "      <td>other</td>\n",
              "      <td>teacher</td>\n",
              "      <td>home</td>\n",
              "      <td>mother</td>\n",
              "      <td>2</td>\n",
              "      <td>2</td>\n",
              "      <td>0</td>\n",
              "      <td>yes</td>\n",
              "      <td>yes</td>\n",
              "      <td>no</td>\n",
              "      <td>no</td>\n",
              "      <td>yes</td>\n",
              "      <td>yes</td>\n",
              "      <td>no</td>\n",
              "      <td>no</td>\n",
              "      <td>4</td>\n",
              "      <td>1</td>\n",
              "      <td>4</td>\n",
              "      <td>1</td>\n",
              "      <td>1</td>\n",
              "      <td>1</td>\n",
              "      <td>6</td>\n",
              "      <td>6</td>\n",
              "      <td>5</td>\n",
              "      <td>6</td>\n",
              "    </tr>\n",
              "    <tr>\n",
              "      <th>8</th>\n",
              "      <td>GP</td>\n",
              "      <td>M</td>\n",
              "      <td>15</td>\n",
              "      <td>U</td>\n",
              "      <td>LE3</td>\n",
              "      <td>A</td>\n",
              "      <td>3</td>\n",
              "      <td>2</td>\n",
              "      <td>services</td>\n",
              "      <td>other</td>\n",
              "      <td>home</td>\n",
              "      <td>mother</td>\n",
              "      <td>1</td>\n",
              "      <td>2</td>\n",
              "      <td>0</td>\n",
              "      <td>no</td>\n",
              "      <td>yes</td>\n",
              "      <td>yes</td>\n",
              "      <td>no</td>\n",
              "      <td>yes</td>\n",
              "      <td>yes</td>\n",
              "      <td>yes</td>\n",
              "      <td>no</td>\n",
              "      <td>4</td>\n",
              "      <td>2</td>\n",
              "      <td>2</td>\n",
              "      <td>1</td>\n",
              "      <td>1</td>\n",
              "      <td>1</td>\n",
              "      <td>0</td>\n",
              "      <td>16</td>\n",
              "      <td>18</td>\n",
              "      <td>19</td>\n",
              "    </tr>\n",
              "    <tr>\n",
              "      <th>9</th>\n",
              "      <td>GP</td>\n",
              "      <td>M</td>\n",
              "      <td>15</td>\n",
              "      <td>U</td>\n",
              "      <td>GT3</td>\n",
              "      <td>T</td>\n",
              "      <td>3</td>\n",
              "      <td>4</td>\n",
              "      <td>other</td>\n",
              "      <td>other</td>\n",
              "      <td>home</td>\n",
              "      <td>mother</td>\n",
              "      <td>1</td>\n",
              "      <td>2</td>\n",
              "      <td>0</td>\n",
              "      <td>no</td>\n",
              "      <td>yes</td>\n",
              "      <td>yes</td>\n",
              "      <td>yes</td>\n",
              "      <td>yes</td>\n",
              "      <td>yes</td>\n",
              "      <td>yes</td>\n",
              "      <td>no</td>\n",
              "      <td>5</td>\n",
              "      <td>5</td>\n",
              "      <td>1</td>\n",
              "      <td>1</td>\n",
              "      <td>1</td>\n",
              "      <td>5</td>\n",
              "      <td>0</td>\n",
              "      <td>14</td>\n",
              "      <td>15</td>\n",
              "      <td>15</td>\n",
              "    </tr>\n",
              "  </tbody>\n",
              "</table>\n",
              "</div>"
            ],
            "text/plain": [
              "  school sex  age address famsize Pstatus  ...  Walc  health absences  G1  G2  G3\n",
              "0     GP   F   18       U     GT3       A  ...     1       3        6   5   6   6\n",
              "1     GP   F   17       U     GT3       T  ...     1       3        4   5   5   6\n",
              "2     GP   F   15       U     LE3       T  ...     3       3       10   7   8  10\n",
              "3     GP   F   15       U     GT3       T  ...     1       5        2  15  14  15\n",
              "4     GP   F   16       U     GT3       T  ...     2       5        4   6  10  10\n",
              "5     GP   M   16       U     LE3       T  ...     2       5       10  15  15  15\n",
              "6     GP   M   16       U     LE3       T  ...     1       3        0  12  12  11\n",
              "7     GP   F   17       U     GT3       A  ...     1       1        6   6   5   6\n",
              "8     GP   M   15       U     LE3       A  ...     1       1        0  16  18  19\n",
              "9     GP   M   15       U     GT3       T  ...     1       5        0  14  15  15\n",
              "\n",
              "[10 rows x 33 columns]"
            ]
          },
          "metadata": {},
          "execution_count": 102
        }
      ]
    },
    {
      "cell_type": "markdown",
      "metadata": {
        "id": "gxqckeDDPXm2"
      },
      "source": [
        "**¿DATOS FALNTANTES?**"
      ]
    },
    {
      "cell_type": "code",
      "metadata": {
        "colab": {
          "base_uri": "https://localhost:8080/",
          "height": 0
        },
        "id": "urWaqicuyDaY",
        "outputId": "7c7f165f-6471-41e9-99e3-6cce62075824"
      },
      "source": [
        "NaN = base_mat.isnull().sum()\n",
        "NaN"
      ],
      "execution_count": 103,
      "outputs": [
        {
          "output_type": "execute_result",
          "data": {
            "text/plain": [
              "school        0\n",
              "sex           0\n",
              "age           0\n",
              "address       0\n",
              "famsize       0\n",
              "Pstatus       0\n",
              "Medu          0\n",
              "Fedu          0\n",
              "Mjob          0\n",
              "Fjob          0\n",
              "reason        0\n",
              "guardian      0\n",
              "traveltime    0\n",
              "studytime     0\n",
              "failures      0\n",
              "schoolsup     0\n",
              "famsup        0\n",
              "paid          0\n",
              "activities    0\n",
              "nursery       0\n",
              "higher        0\n",
              "internet      0\n",
              "romantic      0\n",
              "famrel        0\n",
              "freetime      0\n",
              "goout         0\n",
              "Dalc          0\n",
              "Walc          0\n",
              "health        0\n",
              "absences      0\n",
              "G1            0\n",
              "G2            0\n",
              "G3            0\n",
              "dtype: int64"
            ]
          },
          "metadata": {},
          "execution_count": 103
        }
      ]
    },
    {
      "cell_type": "markdown",
      "metadata": {
        "id": "8geJIRT5Pe4E"
      },
      "source": [
        "### **Como se puede evidenciar no existen datos faltantes en ninguna de las variables del data set**"
      ]
    },
    {
      "cell_type": "markdown",
      "metadata": {
        "id": "osoTKLguPtDH"
      },
      "source": [
        " ## **¿Cuántos estudiantes viven en zona urbana o rural? ¿Cuántos de los estudiantes rurales son mujeres y cuántas son hombres?**\n"
      ]
    },
    {
      "cell_type": "markdown",
      "metadata": {
        "id": "Z_sBwBIu0hWI"
      },
      "source": [
        "### ¿Cuántos estudiantes viven en zona urbana o rural?"
      ]
    },
    {
      "cell_type": "code",
      "metadata": {
        "id": "1z035gLE0egC",
        "colab": {
          "base_uri": "https://localhost:8080/",
          "height": 0
        },
        "outputId": "54a76d7e-cb4f-4fd2-98ef-c51a660784d4"
      },
      "source": [
        "z_student = base_mat['address'].value_counts()\n",
        "z_student"
      ],
      "execution_count": 104,
      "outputs": [
        {
          "output_type": "execute_result",
          "data": {
            "text/plain": [
              "U    307\n",
              "R     88\n",
              "Name: address, dtype: int64"
            ]
          },
          "metadata": {},
          "execution_count": 104
        }
      ]
    },
    {
      "cell_type": "markdown",
      "metadata": {
        "id": "woEbueu_0nzV"
      },
      "source": [
        "### ¿Cuántos de los estudiantes rurales son mujeres y cuántas son hombres?"
      ]
    },
    {
      "cell_type": "code",
      "metadata": {
        "colab": {
          "base_uri": "https://localhost:8080/",
          "height": 0
        },
        "id": "-7gjlhT-0ojO",
        "outputId": "0d6062bd-a56d-42ac-8aad-2044355ee243"
      },
      "source": [
        "Ru = base_mat[base_mat['address'] == 'R']\n",
        "\n",
        "sex_R = Ru['sex'].value_counts()\n",
        "sex_R"
      ],
      "execution_count": 105,
      "outputs": [
        {
          "output_type": "execute_result",
          "data": {
            "text/plain": [
              "F    44\n",
              "M    44\n",
              "Name: sex, dtype: int64"
            ]
          },
          "metadata": {},
          "execution_count": 105
        }
      ]
    },
    {
      "cell_type": "markdown",
      "metadata": {
        "id": "6H5vfstISt6-"
      },
      "source": [
        "##  **¿Cuántos estudiantes que viven en la zona rural se demoran en transportarse para llegar de la casa al colegio más de una hora?**"
      ]
    },
    {
      "cell_type": "code",
      "metadata": {
        "colab": {
          "base_uri": "https://localhost:8080/",
          "height": 0
        },
        "id": "JUryhQv8S0Mm",
        "outputId": "75b32f7c-cd04-468e-f522-5a1aeca5e3e5"
      },
      "source": [
        "mas1 = Ru[Ru['traveltime'] == 4]\n",
        "len(mas1)"
      ],
      "execution_count": 106,
      "outputs": [
        {
          "output_type": "execute_result",
          "data": {
            "text/plain": [
              "5"
            ]
          },
          "metadata": {},
          "execution_count": 106
        }
      ]
    },
    {
      "cell_type": "markdown",
      "metadata": {
        "id": "C3iBj867TsYl"
      },
      "source": [
        "### ¿Cuántos de ellos son mujeres y cuántos son hombres?"
      ]
    },
    {
      "cell_type": "code",
      "metadata": {
        "colab": {
          "base_uri": "https://localhost:8080/",
          "height": 0
        },
        "id": "IuQWhk1jTxSl",
        "outputId": "2a948049-f13f-4471-f7da-1645cbb2db55"
      },
      "source": [
        "gen = mas1['sex'].value_counts()\n",
        "gen"
      ],
      "execution_count": 107,
      "outputs": [
        {
          "output_type": "execute_result",
          "data": {
            "text/plain": [
              "M    4\n",
              "F    1\n",
              "Name: sex, dtype: int64"
            ]
          },
          "metadata": {},
          "execution_count": 107
        }
      ]
    },
    {
      "cell_type": "markdown",
      "metadata": {
        "id": "CfyqzyvT8TfN"
      },
      "source": [
        "## **¿Cuántos estudiantes que viven en la zona rural tienen más de 5 fallas?**"
      ]
    },
    {
      "cell_type": "code",
      "metadata": {
        "colab": {
          "base_uri": "https://localhost:8080/",
          "height": 0
        },
        "id": "ciC_4_Il5_BJ",
        "outputId": "c048436b-4c27-4f0c-d7c6-fbd16bb8f739"
      },
      "source": [
        "Fmas5 = Ru[Ru['absences']>5]\n",
        "len(Fmas5)"
      ],
      "execution_count": 108,
      "outputs": [
        {
          "output_type": "execute_result",
          "data": {
            "text/plain": [
              "38"
            ]
          },
          "metadata": {},
          "execution_count": 108
        }
      ]
    },
    {
      "cell_type": "markdown",
      "metadata": {
        "id": "AA3cwlLTSeAV"
      },
      "source": [
        "### ¿Cuántos de ellos  son mujeres y cuántos son hombres?"
      ]
    },
    {
      "cell_type": "code",
      "metadata": {
        "colab": {
          "base_uri": "https://localhost:8080/",
          "height": 0
        },
        "id": "-lcBCjFKU7-w",
        "outputId": "3786d6ee-f57f-41e6-b1a8-35fa3887a1ec"
      },
      "source": [
        "Fa_Gen = Fmas5['sex'].value_counts()\n",
        "Fa_Gen"
      ],
      "execution_count": 109,
      "outputs": [
        {
          "output_type": "execute_result",
          "data": {
            "text/plain": [
              "F    20\n",
              "M    18\n",
              "Name: sex, dtype: int64"
            ]
          },
          "metadata": {},
          "execution_count": 109
        }
      ]
    },
    {
      "cell_type": "markdown",
      "metadata": {
        "id": "qmcYTRxb8W7C"
      },
      "source": [
        "## **¿Cuántos estudiantes tienen madres y padres con un grado de escolaridad por encima de la educación secundaria?**\n",
        "\n"
      ]
    },
    {
      "cell_type": "code",
      "metadata": {
        "colab": {
          "base_uri": "https://localhost:8080/"
        },
        "id": "wE_YoblOVnzd",
        "outputId": "12db7b4a-872c-4f0d-f4e1-3cc448bee1c8"
      },
      "source": [
        "total = []\n",
        "for i in range(1,len(base_mat)):\n",
        "  if base_mat['Medu'][i] == 4 and  base_mat['Fedu'][i] == 4: \n",
        "    total = i\n",
        "    print(total)\n",
        "\n",
        "    \n",
        "\n"
      ],
      "execution_count": 264,
      "outputs": [
        {
          "output_type": "stream",
          "name": "stdout",
          "text": [
            "7\n",
            "10\n",
            "12\n",
            "15\n",
            "16\n",
            "21\n",
            "29\n",
            "30\n",
            "31\n",
            "37\n",
            "41\n",
            "42\n",
            "49\n",
            "53\n",
            "57\n",
            "60\n",
            "66\n",
            "85\n",
            "89\n",
            "98\n",
            "100\n",
            "101\n",
            "102\n",
            "108\n",
            "109\n",
            "110\n",
            "115\n",
            "116\n",
            "123\n",
            "129\n",
            "135\n",
            "139\n",
            "142\n",
            "148\n",
            "154\n",
            "169\n",
            "172\n",
            "196\n",
            "198\n",
            "199\n",
            "211\n",
            "214\n",
            "224\n",
            "232\n",
            "233\n",
            "241\n",
            "243\n",
            "267\n",
            "277\n",
            "278\n",
            "289\n",
            "296\n",
            "299\n",
            "300\n",
            "301\n",
            "307\n",
            "319\n",
            "325\n",
            "328\n",
            "329\n",
            "341\n",
            "356\n",
            "363\n",
            "366\n",
            "369\n",
            "374\n",
            "377\n",
            "380\n",
            "386\n"
          ]
        }
      ]
    },
    {
      "cell_type": "markdown",
      "metadata": {
        "id": "9pxyoU_D8YQc"
      },
      "source": [
        "## **Se quiere ver la media de las notas de matemáticas de los estudiantes del colegio Gabriel Pereira vs Mousinho da Silveira, teniendo en cuenta si los estudiantes tienen o no internet en sus casas. Realice una visualización de datos teniendo en cuenta estas 3 variables.**"
      ]
    },
    {
      "cell_type": "code",
      "metadata": {
        "colab": {
          "base_uri": "https://localhost:8080/",
          "height": 0
        },
        "id": "7GYqMcwr2Kkj",
        "outputId": "e892b1af-e579-4df7-8919-ebcea83c0f81"
      },
      "source": [
        "notas = base_mat['G1'],base_mat['G2'],base_mat['G3']\n",
        "notas"
      ],
      "execution_count": 214,
      "outputs": [
        {
          "output_type": "execute_result",
          "data": {
            "text/plain": [
              "(0       5\n",
              " 1       5\n",
              " 2       7\n",
              " 3      15\n",
              " 4       6\n",
              "        ..\n",
              " 390     9\n",
              " 391    14\n",
              " 392    10\n",
              " 393    11\n",
              " 394     8\n",
              " Name: G1, Length: 395, dtype: int64, 0       6\n",
              " 1       5\n",
              " 2       8\n",
              " 3      14\n",
              " 4      10\n",
              "        ..\n",
              " 390     9\n",
              " 391    16\n",
              " 392     8\n",
              " 393    12\n",
              " 394     9\n",
              " Name: G2, Length: 395, dtype: int64, 0       6\n",
              " 1       6\n",
              " 2      10\n",
              " 3      15\n",
              " 4      10\n",
              "        ..\n",
              " 390     9\n",
              " 391    16\n",
              " 392     7\n",
              " 393    10\n",
              " 394     9\n",
              " Name: G3, Length: 395, dtype: int64)"
            ]
          },
          "metadata": {},
          "execution_count": 214
        }
      ]
    },
    {
      "cell_type": "code",
      "metadata": {
        "colab": {
          "base_uri": "https://localhost:8080/",
          "height": 296
        },
        "id": "s2AsMWqE5va6",
        "outputId": "d409b484-efe7-4d4b-92b1-5fdcb7e1d48b"
      },
      "source": [
        "sns.barplot(data = base_mat,\n",
        "            estimator = np.mean,\n",
        "            x = \"G1\" ,\n",
        "            y = \"internet\",\n",
        "            hue = \"school\",\n",
        "            ci = None,\n",
        "            palette = 'hsv')"
      ],
      "execution_count": 215,
      "outputs": [
        {
          "output_type": "execute_result",
          "data": {
            "text/plain": [
              "<matplotlib.axes._subplots.AxesSubplot at 0x7fb3b2c9df10>"
            ]
          },
          "metadata": {},
          "execution_count": 215
        },
        {
          "output_type": "display_data",
          "data": {
            "image/png": "[encoded data removed]",
            "text/plain": [
              "<Figure size 432x288 with 1 Axes>"
            ]
          },
          "metadata": {
            "needs_background": "light"
          }
        }
      ]
    },
    {
      "cell_type": "code",
      "metadata": {
        "colab": {
          "base_uri": "https://localhost:8080/",
          "height": 386
        },
        "id": "9RMnlCbf9SRw",
        "outputId": "50870d6c-8505-4d7f-e58f-0138bc4c806b"
      },
      "source": [
        "sns.catplot(data = base_mat,\n",
        "            kind = \"bar\",\n",
        "            estimator = np.mean,\n",
        "            x = \"school\",\n",
        "            y = \"G2\",\n",
        "            hue = \"internet\",\n",
        "            col = \"sex\",\n",
        "            palette = 'hsv',\n",
        "            ci = None)   "
      ],
      "execution_count": 187,
      "outputs": [
        {
          "output_type": "execute_result",
          "data": {
            "text/plain": [
              "<seaborn.axisgrid.FacetGrid at 0x7fb3bef7d7d0>"
            ]
          },
          "metadata": {},
          "execution_count": 187
        },
        {
          "output_type": "display_data",
          "data": {
            "image/png": "[encoded data removed]",
            "text/plain": [
              "<Figure size 773.25x360 with 2 Axes>"
            ]
          },
          "metadata": {
            "needs_background": "light"
          }
        }
      ]
    },
    {
      "cell_type": "code",
      "metadata": {
        "colab": {
          "base_uri": "https://localhost:8080/",
          "height": 386
        },
        "id": "d_L9mka_-vro",
        "outputId": "265f7fc0-14ee-468b-e751-436d7acecf85"
      },
      "source": [
        "sns.catplot(data = base_mat,\n",
        "            kind = \"bar\",\n",
        "            estimator = np.mean,\n",
        "            x = \"school\",\n",
        "            y = \"G3\",\n",
        "            hue = \"internet\",\n",
        "            col = \"sex\",\n",
        "            palette = 'hsv',\n",
        "            ci = None)  "
      ],
      "execution_count": 188,
      "outputs": [
        {
          "output_type": "execute_result",
          "data": {
            "text/plain": [
              "<seaborn.axisgrid.FacetGrid at 0x7fb3b5518f90>"
            ]
          },
          "metadata": {},
          "execution_count": 188
        },
        {
          "output_type": "display_data",
          "data": {
            "image/png": "[encoded data removed]",
            "text/plain": [
              "<Figure size 773.25x360 with 2 Axes>"
            ]
          },
          "metadata": {
            "needs_background": "light"
          }
        }
      ]
    },
    {
      "cell_type": "markdown",
      "metadata": {
        "id": "NbBOapX5-62H"
      },
      "source": [
        "## **Cree una nueva variable en la tabla que corresponda a la calificación total para cada uno de los estudiantes y responda ¿Cuál es la media, mediana, mínima y máxima calificación total?**"
      ]
    },
    {
      "cell_type": "code",
      "metadata": {
        "colab": {
          "base_uri": "https://localhost:8080/",
          "height": 320
        },
        "id": "6N0jR8Tq_Cqe",
        "outputId": "9dcdd8c1-78c1-4f87-d9af-739f8f8fb1d0"
      },
      "source": [
        "basEdit = (base_mat >> \n",
        "              mutate(calTot = X.G1 + X.G2 + X.G3))\n",
        "basEdit.describe()"
      ],
      "execution_count": 224,
      "outputs": [
        {
          "output_type": "execute_result",
          "data": {
            "text/html": [
              "<div>\n",
              "<style scoped>\n",
              "    .dataframe tbody tr th:only-of-type {\n",
              "        vertical-align: middle;\n",
              "    }\n",
              "\n",
              "    .dataframe tbody tr th {\n",
              "        vertical-align: top;\n",
              "    }\n",
              "\n",
              "    .dataframe thead th {\n",
              "        text-align: right;\n",
              "    }\n",
              "</style>\n",
              "<table border=\"1\" class=\"dataframe\">\n",
              "  <thead>\n",
              "    <tr style=\"text-align: right;\">\n",
              "      <th></th>\n",
              "      <th>age</th>\n",
              "      <th>Medu</th>\n",
              "      <th>Fedu</th>\n",
              "      <th>traveltime</th>\n",
              "      <th>studytime</th>\n",
              "      <th>failures</th>\n",
              "      <th>famrel</th>\n",
              "      <th>freetime</th>\n",
              "      <th>goout</th>\n",
              "      <th>Dalc</th>\n",
              "      <th>Walc</th>\n",
              "      <th>health</th>\n",
              "      <th>absences</th>\n",
              "      <th>G1</th>\n",
              "      <th>G2</th>\n",
              "      <th>G3</th>\n",
              "      <th>calTot</th>\n",
              "    </tr>\n",
              "  </thead>\n",
              "  <tbody>\n",
              "    <tr>\n",
              "      <th>count</th>\n",
              "      <td>395.000000</td>\n",
              "      <td>395.000000</td>\n",
              "      <td>395.000000</td>\n",
              "      <td>395.000000</td>\n",
              "      <td>395.000000</td>\n",
              "      <td>395.000000</td>\n",
              "      <td>395.000000</td>\n",
              "      <td>395.000000</td>\n",
              "      <td>395.000000</td>\n",
              "      <td>395.000000</td>\n",
              "      <td>395.000000</td>\n",
              "      <td>395.000000</td>\n",
              "      <td>395.000000</td>\n",
              "      <td>395.000000</td>\n",
              "      <td>395.000000</td>\n",
              "      <td>395.000000</td>\n",
              "      <td>395.000000</td>\n",
              "    </tr>\n",
              "    <tr>\n",
              "      <th>mean</th>\n",
              "      <td>16.696203</td>\n",
              "      <td>2.749367</td>\n",
              "      <td>2.521519</td>\n",
              "      <td>1.448101</td>\n",
              "      <td>2.035443</td>\n",
              "      <td>0.334177</td>\n",
              "      <td>3.944304</td>\n",
              "      <td>3.235443</td>\n",
              "      <td>3.108861</td>\n",
              "      <td>1.481013</td>\n",
              "      <td>2.291139</td>\n",
              "      <td>3.554430</td>\n",
              "      <td>5.708861</td>\n",
              "      <td>10.908861</td>\n",
              "      <td>10.713924</td>\n",
              "      <td>10.415190</td>\n",
              "      <td>32.037975</td>\n",
              "    </tr>\n",
              "    <tr>\n",
              "      <th>std</th>\n",
              "      <td>1.276043</td>\n",
              "      <td>1.094735</td>\n",
              "      <td>1.088201</td>\n",
              "      <td>0.697505</td>\n",
              "      <td>0.839240</td>\n",
              "      <td>0.743651</td>\n",
              "      <td>0.896659</td>\n",
              "      <td>0.998862</td>\n",
              "      <td>1.113278</td>\n",
              "      <td>0.890741</td>\n",
              "      <td>1.287897</td>\n",
              "      <td>1.390303</td>\n",
              "      <td>8.003096</td>\n",
              "      <td>3.319195</td>\n",
              "      <td>3.761505</td>\n",
              "      <td>4.581443</td>\n",
              "      <td>11.090357</td>\n",
              "    </tr>\n",
              "    <tr>\n",
              "      <th>min</th>\n",
              "      <td>15.000000</td>\n",
              "      <td>0.000000</td>\n",
              "      <td>0.000000</td>\n",
              "      <td>1.000000</td>\n",
              "      <td>1.000000</td>\n",
              "      <td>0.000000</td>\n",
              "      <td>1.000000</td>\n",
              "      <td>1.000000</td>\n",
              "      <td>1.000000</td>\n",
              "      <td>1.000000</td>\n",
              "      <td>1.000000</td>\n",
              "      <td>1.000000</td>\n",
              "      <td>0.000000</td>\n",
              "      <td>3.000000</td>\n",
              "      <td>0.000000</td>\n",
              "      <td>0.000000</td>\n",
              "      <td>4.000000</td>\n",
              "    </tr>\n",
              "    <tr>\n",
              "      <th>25%</th>\n",
              "      <td>16.000000</td>\n",
              "      <td>2.000000</td>\n",
              "      <td>2.000000</td>\n",
              "      <td>1.000000</td>\n",
              "      <td>1.000000</td>\n",
              "      <td>0.000000</td>\n",
              "      <td>4.000000</td>\n",
              "      <td>3.000000</td>\n",
              "      <td>2.000000</td>\n",
              "      <td>1.000000</td>\n",
              "      <td>1.000000</td>\n",
              "      <td>3.000000</td>\n",
              "      <td>0.000000</td>\n",
              "      <td>8.000000</td>\n",
              "      <td>9.000000</td>\n",
              "      <td>8.000000</td>\n",
              "      <td>25.000000</td>\n",
              "    </tr>\n",
              "    <tr>\n",
              "      <th>50%</th>\n",
              "      <td>17.000000</td>\n",
              "      <td>3.000000</td>\n",
              "      <td>2.000000</td>\n",
              "      <td>1.000000</td>\n",
              "      <td>2.000000</td>\n",
              "      <td>0.000000</td>\n",
              "      <td>4.000000</td>\n",
              "      <td>3.000000</td>\n",
              "      <td>3.000000</td>\n",
              "      <td>1.000000</td>\n",
              "      <td>2.000000</td>\n",
              "      <td>4.000000</td>\n",
              "      <td>4.000000</td>\n",
              "      <td>11.000000</td>\n",
              "      <td>11.000000</td>\n",
              "      <td>11.000000</td>\n",
              "      <td>32.000000</td>\n",
              "    </tr>\n",
              "    <tr>\n",
              "      <th>75%</th>\n",
              "      <td>18.000000</td>\n",
              "      <td>4.000000</td>\n",
              "      <td>3.000000</td>\n",
              "      <td>2.000000</td>\n",
              "      <td>2.000000</td>\n",
              "      <td>0.000000</td>\n",
              "      <td>5.000000</td>\n",
              "      <td>4.000000</td>\n",
              "      <td>4.000000</td>\n",
              "      <td>2.000000</td>\n",
              "      <td>3.000000</td>\n",
              "      <td>5.000000</td>\n",
              "      <td>8.000000</td>\n",
              "      <td>13.000000</td>\n",
              "      <td>13.000000</td>\n",
              "      <td>14.000000</td>\n",
              "      <td>40.000000</td>\n",
              "    </tr>\n",
              "    <tr>\n",
              "      <th>max</th>\n",
              "      <td>22.000000</td>\n",
              "      <td>4.000000</td>\n",
              "      <td>4.000000</td>\n",
              "      <td>4.000000</td>\n",
              "      <td>4.000000</td>\n",
              "      <td>3.000000</td>\n",
              "      <td>5.000000</td>\n",
              "      <td>5.000000</td>\n",
              "      <td>5.000000</td>\n",
              "      <td>5.000000</td>\n",
              "      <td>5.000000</td>\n",
              "      <td>5.000000</td>\n",
              "      <td>75.000000</td>\n",
              "      <td>19.000000</td>\n",
              "      <td>19.000000</td>\n",
              "      <td>20.000000</td>\n",
              "      <td>58.000000</td>\n",
              "    </tr>\n",
              "  </tbody>\n",
              "</table>\n",
              "</div>"
            ],
            "text/plain": [
              "              age        Medu        Fedu  ...          G2          G3      calTot\n",
              "count  395.000000  395.000000  395.000000  ...  395.000000  395.000000  395.000000\n",
              "mean    16.696203    2.749367    2.521519  ...   10.713924   10.415190   32.037975\n",
              "std      1.276043    1.094735    1.088201  ...    3.761505    4.581443   11.090357\n",
              "min     15.000000    0.000000    0.000000  ...    0.000000    0.000000    4.000000\n",
              "25%     16.000000    2.000000    2.000000  ...    9.000000    8.000000   25.000000\n",
              "50%     17.000000    3.000000    2.000000  ...   11.000000   11.000000   32.000000\n",
              "75%     18.000000    4.000000    3.000000  ...   13.000000   14.000000   40.000000\n",
              "max     22.000000    4.000000    4.000000  ...   19.000000   20.000000   58.000000\n",
              "\n",
              "[8 rows x 17 columns]"
            ]
          },
          "metadata": {},
          "execution_count": 224
        }
      ]
    },
    {
      "cell_type": "markdown",
      "metadata": {
        "id": "buud7xXsDRNm"
      },
      "source": [
        "# *media*"
      ]
    },
    {
      "cell_type": "code",
      "metadata": {
        "colab": {
          "base_uri": "https://localhost:8080/",
          "height": 0
        },
        "id": "Jkgj3D9HDQP_",
        "outputId": "f2fb3f63-cdab-486c-e3df-6278c523ce21"
      },
      "source": [
        "mean(basEdit['calTot'])"
      ],
      "execution_count": 219,
      "outputs": [
        {
          "output_type": "execute_result",
          "data": {
            "text/plain": [
              "32.037974683544306"
            ]
          },
          "metadata": {},
          "execution_count": 219
        }
      ]
    },
    {
      "cell_type": "markdown",
      "metadata": {
        "id": "S_P-9fDvDmNu"
      },
      "source": [
        "# *mediana*"
      ]
    },
    {
      "cell_type": "code",
      "metadata": {
        "colab": {
          "base_uri": "https://localhost:8080/",
          "height": 0
        },
        "id": "oIiLOKdNDtge",
        "outputId": "d02787c7-174f-4886-dde5-895e2e1d6b47"
      },
      "source": [
        "median(basEdit['calTot'])"
      ],
      "execution_count": 220,
      "outputs": [
        {
          "output_type": "execute_result",
          "data": {
            "text/plain": [
              "32.0"
            ]
          },
          "metadata": {},
          "execution_count": 220
        }
      ]
    },
    {
      "cell_type": "markdown",
      "metadata": {
        "id": "m0Sz1LVAD217"
      },
      "source": [
        "# *minimo y maximo*"
      ]
    },
    {
      "cell_type": "code",
      "metadata": {
        "colab": {
          "base_uri": "https://localhost:8080/",
          "height": 0
        },
        "id": "8cgLjucWD50O",
        "outputId": "55f32d08-76d7-4801-e820-6a5b54588397"
      },
      "source": [
        "min(basEdit['calTot']),max(basEdit['calTot'])"
      ],
      "execution_count": 221,
      "outputs": [
        {
          "output_type": "execute_result",
          "data": {
            "text/plain": [
              "(4, 58)"
            ]
          },
          "metadata": {},
          "execution_count": 221
        }
      ]
    },
    {
      "cell_type": "markdown",
      "metadata": {
        "id": "rpHG3QijEZUo"
      },
      "source": [
        "## Teniendo en cuenta que el dataset contiene tanto variables numéricas como variablescategóricas responda ¿Qué tipo de análisis realizaría: Regresión o clasificación? Si fueraregresión o clasificación: ¿Qué variable usaría para predecir o clasificar? ¿Cuáles variables tiene la hipótesis que podrían servir para pronosticar o clasificar?"
      ]
    },
    {
      "cell_type": "markdown",
      "metadata": {
        "id": "PhnfDyfjFEEt"
      },
      "source": [
        "*Con el data set studen_ mat realizaria una regresion con la variable tiempo de estudio (studytime) y de acuerdo a las variables como lo son traveltime, age, sex, activities,higher,internet,romantic,freetime,absences,failures pronosticar el tiempo de estudio empleado de acuerdo a las actividades o frecuencias observadas.*"
      ]
    }
  ]
}